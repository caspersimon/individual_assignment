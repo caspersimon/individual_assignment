{
 "cells": [
  {
   "cell_type": "code",
   "execution_count": 2,
   "id": "d51d5d5a-9951-483b-8ab4-65902915e9d2",
   "metadata": {},
   "outputs": [],
   "source": [
    "import pandas as pd\n",
    "import seaborn as sns\n",
    "import numpy as np\n",
    "import psython as psy\n",
    "import pingouin as pg\n",
    "from scipy.stats import contingency \n",
    "from scipy.stats import levene"
   ]
  },
  {
   "cell_type": "markdown",
   "id": "0fa047a9-9bb2-4a39-870a-1b98dd4ea62f",
   "metadata": {},
   "source": [
    "# Before the analyses"
   ]
  },
  {
   "cell_type": "code",
   "execution_count": 3,
   "id": "31b291ac-4130-4fc5-8a5e-9908d488258b",
   "metadata": {},
   "outputs": [],
   "source": [
    "df_original = pd.read_csv(\"group23_alltogether.csv\")\n",
    "df = df_original.drop(df_original[df_original['userid'] < 584].index) # remove test data\n"
   ]
  },
  {
   "cell_type": "markdown",
   "id": "b986ddb1-f6c6-4c8c-85e5-46ad9e513b75",
   "metadata": {},
   "source": [
    "# Exploratory analyses"
   ]
  },
  {
   "cell_type": "code",
   "execution_count": 4,
   "id": "21b014dc-a9c0-4b1d-870a-17567a20a99b",
   "metadata": {},
   "outputs": [
    {
     "data": {
      "text/plain": [
       "condition\n",
       "0    26\n",
       "1    12\n",
       "Name: count, dtype: int64"
      ]
     },
     "execution_count": 4,
     "metadata": {},
     "output_type": "execute_result"
    }
   ],
   "source": [
    "# See how many people in each group\n",
    "df['condition'].value_counts(sort=False)"
   ]
  },
  {
   "cell_type": "code",
   "execution_count": 8,
   "id": "1e7a164d-2006-49bb-a3e1-0fe6c352106d",
   "metadata": {},
   "outputs": [
    {
     "data": {
      "text/plain": [
       "gender\n",
       "1.0    29\n",
       "2.0     5\n",
       "3.0     1\n",
       "0.0     3\n",
       "Name: count, dtype: int64"
      ]
     },
     "execution_count": 8,
     "metadata": {},
     "output_type": "execute_result"
    }
   ],
   "source": [
    "# frequencies of \n",
    "df['gender'].value_counts(sort=False)"
   ]
  },
  {
   "cell_type": "code",
   "execution_count": 9,
   "id": "df2649d9-1b94-4771-800c-3691b2e49144",
   "metadata": {},
   "outputs": [
    {
     "data": {
      "text/plain": [
       "count    38.000000\n",
       "mean     22.526316\n",
       "std       5.838997\n",
       "min      18.000000\n",
       "25%      20.000000\n",
       "50%      21.000000\n",
       "75%      22.750000\n",
       "max      52.000000\n",
       "Name: leeftijd, dtype: float64"
      ]
     },
     "execution_count": 9,
     "metadata": {},
     "output_type": "execute_result"
    }
   ],
   "source": [
    "# descriptives of age  \n",
    "df['leeftijd'].describe()"
   ]
  },
  {
   "cell_type": "code",
   "execution_count": 10,
   "id": "9f52e13d-8a2a-4ec8-8398-7d92741172e4",
   "metadata": {},
   "outputs": [
    {
     "data": {
      "text/plain": [
       "vega\n",
       "0.0    31\n",
       "1.0     7\n",
       "Name: count, dtype: int64"
      ]
     },
     "execution_count": 10,
     "metadata": {},
     "output_type": "execute_result"
    }
   ],
   "source": [
    "df['vega'].value_counts(sort=False)"
   ]
  },
  {
   "cell_type": "code",
   "execution_count": 11,
   "id": "f70587d5-4223-4317-b17a-25a239303198",
   "metadata": {},
   "outputs": [
    {
     "data": {
      "text/plain": [
       "gluten\n",
       "0.0    37\n",
       "1.0     1\n",
       "Name: count, dtype: int64"
      ]
     },
     "execution_count": 11,
     "metadata": {},
     "output_type": "execute_result"
    }
   ],
   "source": [
    "df['gluten'].value_counts(sort=False)"
   ]
  },
  {
   "cell_type": "code",
   "execution_count": 12,
   "id": "2f893337-aa21-48c8-b939-840e4874429d",
   "metadata": {},
   "outputs": [
    {
     "data": {
      "text/plain": [
       "diabetes\n",
       "0.0    37\n",
       "1.0     1\n",
       "Name: count, dtype: int64"
      ]
     },
     "execution_count": 12,
     "metadata": {},
     "output_type": "execute_result"
    }
   ],
   "source": [
    "df['diabetes'].value_counts(sort=False)"
   ]
  },
  {
   "cell_type": "code",
   "execution_count": 13,
   "id": "45ff5035-a141-4836-8495-0bb5fb1dfe58",
   "metadata": {},
   "outputs": [
    {
     "data": {
      "text/plain": [
       "religion\n",
       "0.0    36\n",
       "1.0     2\n",
       "Name: count, dtype: int64"
      ]
     },
     "execution_count": 13,
     "metadata": {},
     "output_type": "execute_result"
    }
   ],
   "source": [
    "df['religion'].value_counts(sort=False)"
   ]
  },
  {
   "cell_type": "code",
   "execution_count": 14,
   "id": "828cc29b-bb95-4525-a570-057b88232d22",
   "metadata": {},
   "outputs": [
    {
     "data": {
      "text/plain": [
       "other\n",
       "Nut / peanut allergy     1\n",
       "FODMAP                   1\n",
       "no coriander             1\n",
       "Name: count, dtype: int64"
      ]
     },
     "execution_count": 14,
     "metadata": {},
     "output_type": "execute_result"
    }
   ],
   "source": [
    "df['other'].value_counts(sort=False)"
   ]
  },
  {
   "cell_type": "code",
   "execution_count": 15,
   "id": "e1ec3fc2-3d5d-434b-a910-ff54cdfcf511",
   "metadata": {},
   "outputs": [
    {
     "data": {
      "text/plain": [
       "opleiding\n",
       "2.0    19\n",
       "5.0     9\n",
       "4.0     5\n",
       "6.0     3\n",
       "3.0     2\n",
       "Name: count, dtype: int64"
      ]
     },
     "execution_count": 15,
     "metadata": {},
     "output_type": "execute_result"
    }
   ],
   "source": [
    "df['opleiding'].value_counts(sort=False)"
   ]
  },
  {
   "cell_type": "markdown",
   "id": "bbd51c46-3671-4f62-b569-2c159fa15d37",
   "metadata": {},
   "source": [
    "# Defining functions to be re-used\n",
    "Here I add another layer of abstraction so I can more easily run the analyses once I actually have the data\n",
    "\n",
    "The functions are based on or inspired by: https://github.com/uvacw/teaching-ds-rp/blob/ace3c716a4cfc18809d9203bfc73009f1233a311/week3/analyzing-experiments.ipynb"
   ]
  },
  {
   "cell_type": "markdown",
   "id": "756dbbeb-9b0f-4811-8ccb-d70bea2da330",
   "metadata": {},
   "source": [
    "## Rank-sum test (as non-parametric alternative to ttest)"
   ]
  },
  {
   "cell_type": "code",
   "execution_count": 16,
   "id": "823e1089-f554-4dde-84c0-a2d6bf66d9b0",
   "metadata": {},
   "outputs": [],
   "source": [
    "def rank_sum_test(df, \n",
    "                  grouping_variable: str, \n",
    "                  group_1: str,\n",
    "                  group_2: str,\n",
    "                  dv: str,\n",
    "                  alternative: str = \"two-sided\"): # define the standard arguments of the function\n",
    "\n",
    "    (label1, values1), (label2, values2) = df.groupby(grouping_variable)[dv]\n",
    "    \n",
    "    testresult = pg.mwu(values1, values2, alternative=alternative)\n",
    "\n",
    "    print(f\"{label1} M: {np.mean(values1):.2f} \\n{label2} M: {np.mean(values2):.2f}\")\n",
    "    print(f\"{label1} Mdn: {np.median(values1):.2f} \\n{label2} Mdn: {np.median(values2):.2f}\")\n",
    "\n",
    "    print(testresult)\n",
    "    return testresult"
   ]
  },
  {
   "cell_type": "markdown",
   "id": "2f140937-9d2d-48ff-b39b-b8328bcb451c",
   "metadata": {},
   "source": [
    "## Chi-square"
   ]
  },
  {
   "cell_type": "code",
   "execution_count": 17,
   "id": "e47d7add-5dd7-48c6-98b4-edce1e7c936a",
   "metadata": {},
   "outputs": [],
   "source": [
    "def chi_square(\n",
    "    df, \n",
    "    rows: str, \n",
    "    columns: str,\n",
    "    test_association: bool = True,\n",
    "    method_association: str = \"cramer\"\n",
    "):\n",
    "    mycrosstab = pd.crosstab(df[rows], df[columns])\n",
    "    \n",
    "    \n",
    "    # and then get the chi2 test for that table\n",
    "    c, p, dof, expected = contingency.chi2_contingency(mycrosstab)\n",
    "    print(f\"𝜒²({dof:.0f}) = {c:.3f}, p = {p:.3f} \")\n",
    "    \n",
    "    # maybe Cramer's V as well?\n",
    "    if test_association:\n",
    "        print(f\"Association = {contingency.association(mycrosstab,method=method_association):.3f}\")\n",
    "\n",
    "    return mycrosstab\n"
   ]
  },
  {
   "cell_type": "markdown",
   "id": "94bb668e-7b49-43e6-966f-d7c9655ce893",
   "metadata": {},
   "source": [
    "## Doing the actual tests"
   ]
  },
  {
   "cell_type": "code",
   "execution_count": 18,
   "id": "4f908795-958d-4d1a-9cf2-9fc02e1950b3",
   "metadata": {},
   "outputs": [],
   "source": [
    "# setting standard values of the arguments\n",
    "grouping_variable = \"condition\"\n",
    "group_1 = \"0\"\n",
    "group_2 = \"1\"\n",
    "rows = \"condition\"\n"
   ]
  },
  {
   "cell_type": "code",
   "execution_count": 19,
   "id": "3a948ec8-3aab-4bdf-9376-ae48de203ace",
   "metadata": {},
   "outputs": [
    {
     "name": "stdout",
     "output_type": "stream",
     "text": [
      "0 M: 23.12 \n",
      "1 M: 21.25\n",
      "0 Mdn: 21.00 \n",
      "1 Mdn: 21.00\n",
      "     U-val alternative     p-val       RBC      CLES\n",
      "MWU  161.5   two-sided  0.872877 -0.035256  0.517628\n"
     ]
    },
    {
     "data": {
      "text/html": [
       "<div>\n",
       "<style scoped>\n",
       "    .dataframe tbody tr th:only-of-type {\n",
       "        vertical-align: middle;\n",
       "    }\n",
       "\n",
       "    .dataframe tbody tr th {\n",
       "        vertical-align: top;\n",
       "    }\n",
       "\n",
       "    .dataframe thead th {\n",
       "        text-align: right;\n",
       "    }\n",
       "</style>\n",
       "<table border=\"1\" class=\"dataframe\">\n",
       "  <thead>\n",
       "    <tr style=\"text-align: right;\">\n",
       "      <th></th>\n",
       "      <th>U-val</th>\n",
       "      <th>alternative</th>\n",
       "      <th>p-val</th>\n",
       "      <th>RBC</th>\n",
       "      <th>CLES</th>\n",
       "    </tr>\n",
       "  </thead>\n",
       "  <tbody>\n",
       "    <tr>\n",
       "      <th>MWU</th>\n",
       "      <td>161.5</td>\n",
       "      <td>two-sided</td>\n",
       "      <td>0.872877</td>\n",
       "      <td>-0.035256</td>\n",
       "      <td>0.517628</td>\n",
       "    </tr>\n",
       "  </tbody>\n",
       "</table>\n",
       "</div>"
      ],
      "text/plain": [
       "     U-val alternative     p-val       RBC      CLES\n",
       "MWU  161.5   two-sided  0.872877 -0.035256  0.517628"
      ]
     },
     "execution_count": 19,
     "metadata": {},
     "output_type": "execute_result"
    }
   ],
   "source": [
    "#rank-sum test age (randomisation check)\n",
    "rank_sum_test(\n",
    "    df=df,\n",
    "    group_1=group_1,\n",
    "    group_2=group_2,\n",
    "    dv=\"leeftijd\",\n",
    "    grouping_variable=grouping_variable\n",
    ")"
   ]
  },
  {
   "cell_type": "code",
   "execution_count": 20,
   "id": "fd16a140-3e60-4c8b-8b1c-cfd65bc473d2",
   "metadata": {},
   "outputs": [],
   "source": [
    "# chi-square randomisation checks"
   ]
  },
  {
   "cell_type": "code",
   "execution_count": 21,
   "id": "9341badf-1e59-431d-b57e-680642e39b90",
   "metadata": {},
   "outputs": [
    {
     "name": "stdout",
     "output_type": "stream",
     "text": [
      "𝜒²(3) = 6.188, p = 0.103 \n",
      "Association = 0.404\n"
     ]
    },
    {
     "data": {
      "text/html": [
       "<div>\n",
       "<style scoped>\n",
       "    .dataframe tbody tr th:only-of-type {\n",
       "        vertical-align: middle;\n",
       "    }\n",
       "\n",
       "    .dataframe tbody tr th {\n",
       "        vertical-align: top;\n",
       "    }\n",
       "\n",
       "    .dataframe thead th {\n",
       "        text-align: right;\n",
       "    }\n",
       "</style>\n",
       "<table border=\"1\" class=\"dataframe\">\n",
       "  <thead>\n",
       "    <tr style=\"text-align: right;\">\n",
       "      <th>gender</th>\n",
       "      <th>0.0</th>\n",
       "      <th>1.0</th>\n",
       "      <th>2.0</th>\n",
       "      <th>3.0</th>\n",
       "    </tr>\n",
       "    <tr>\n",
       "      <th>condition</th>\n",
       "      <th></th>\n",
       "      <th></th>\n",
       "      <th></th>\n",
       "      <th></th>\n",
       "    </tr>\n",
       "  </thead>\n",
       "  <tbody>\n",
       "    <tr>\n",
       "      <th>0</th>\n",
       "      <td>1</td>\n",
       "      <td>20</td>\n",
       "      <td>5</td>\n",
       "      <td>0</td>\n",
       "    </tr>\n",
       "    <tr>\n",
       "      <th>1</th>\n",
       "      <td>2</td>\n",
       "      <td>9</td>\n",
       "      <td>0</td>\n",
       "      <td>1</td>\n",
       "    </tr>\n",
       "  </tbody>\n",
       "</table>\n",
       "</div>"
      ],
      "text/plain": [
       "gender     0.0  1.0  2.0  3.0\n",
       "condition                    \n",
       "0            1   20    5    0\n",
       "1            2    9    0    1"
      ]
     },
     "execution_count": 21,
     "metadata": {},
     "output_type": "execute_result"
    }
   ],
   "source": [
    "# gender\n",
    "chi_square(\n",
    "    df=df,\n",
    "    columns=\"gender\",\n",
    "    rows=rows,\n",
    "    \n",
    ")"
   ]
  },
  {
   "cell_type": "code",
   "execution_count": 22,
   "id": "0a2b764c-354b-43f7-94ba-722fe2fda589",
   "metadata": {},
   "outputs": [
    {
     "name": "stdout",
     "output_type": "stream",
     "text": [
      "𝜒²(4) = 2.265, p = 0.687 \n",
      "Association = 0.244\n"
     ]
    },
    {
     "data": {
      "text/html": [
       "<div>\n",
       "<style scoped>\n",
       "    .dataframe tbody tr th:only-of-type {\n",
       "        vertical-align: middle;\n",
       "    }\n",
       "\n",
       "    .dataframe tbody tr th {\n",
       "        vertical-align: top;\n",
       "    }\n",
       "\n",
       "    .dataframe thead th {\n",
       "        text-align: right;\n",
       "    }\n",
       "</style>\n",
       "<table border=\"1\" class=\"dataframe\">\n",
       "  <thead>\n",
       "    <tr style=\"text-align: right;\">\n",
       "      <th>opleiding</th>\n",
       "      <th>2.0</th>\n",
       "      <th>3.0</th>\n",
       "      <th>4.0</th>\n",
       "      <th>5.0</th>\n",
       "      <th>6.0</th>\n",
       "    </tr>\n",
       "    <tr>\n",
       "      <th>condition</th>\n",
       "      <th></th>\n",
       "      <th></th>\n",
       "      <th></th>\n",
       "      <th></th>\n",
       "      <th></th>\n",
       "    </tr>\n",
       "  </thead>\n",
       "  <tbody>\n",
       "    <tr>\n",
       "      <th>0</th>\n",
       "      <td>12</td>\n",
       "      <td>1</td>\n",
       "      <td>4</td>\n",
       "      <td>6</td>\n",
       "      <td>3</td>\n",
       "    </tr>\n",
       "    <tr>\n",
       "      <th>1</th>\n",
       "      <td>7</td>\n",
       "      <td>1</td>\n",
       "      <td>1</td>\n",
       "      <td>3</td>\n",
       "      <td>0</td>\n",
       "    </tr>\n",
       "  </tbody>\n",
       "</table>\n",
       "</div>"
      ],
      "text/plain": [
       "opleiding  2.0  3.0  4.0  5.0  6.0\n",
       "condition                         \n",
       "0           12    1    4    6    3\n",
       "1            7    1    1    3    0"
      ]
     },
     "execution_count": 22,
     "metadata": {},
     "output_type": "execute_result"
    }
   ],
   "source": [
    "# education\n",
    "chi_square(\n",
    "    df=df,\n",
    "    columns=\"opleiding\",\n",
    "    rows=rows,\n",
    "    \n",
    ")"
   ]
  },
  {
   "cell_type": "code",
   "execution_count": 23,
   "id": "aeca6bb4-b9ac-4d3f-801f-5a1b71e5b467",
   "metadata": {},
   "outputs": [
    {
     "name": "stdout",
     "output_type": "stream",
     "text": [
      "𝜒²(1) = 0.068, p = 0.794 \n",
      "Association = 0.115\n"
     ]
    },
    {
     "data": {
      "text/html": [
       "<div>\n",
       "<style scoped>\n",
       "    .dataframe tbody tr th:only-of-type {\n",
       "        vertical-align: middle;\n",
       "    }\n",
       "\n",
       "    .dataframe tbody tr th {\n",
       "        vertical-align: top;\n",
       "    }\n",
       "\n",
       "    .dataframe thead th {\n",
       "        text-align: right;\n",
       "    }\n",
       "</style>\n",
       "<table border=\"1\" class=\"dataframe\">\n",
       "  <thead>\n",
       "    <tr style=\"text-align: right;\">\n",
       "      <th>vega</th>\n",
       "      <th>0.0</th>\n",
       "      <th>1.0</th>\n",
       "    </tr>\n",
       "    <tr>\n",
       "      <th>condition</th>\n",
       "      <th></th>\n",
       "      <th></th>\n",
       "    </tr>\n",
       "  </thead>\n",
       "  <tbody>\n",
       "    <tr>\n",
       "      <th>0</th>\n",
       "      <td>22</td>\n",
       "      <td>4</td>\n",
       "    </tr>\n",
       "    <tr>\n",
       "      <th>1</th>\n",
       "      <td>9</td>\n",
       "      <td>3</td>\n",
       "    </tr>\n",
       "  </tbody>\n",
       "</table>\n",
       "</div>"
      ],
      "text/plain": [
       "vega       0.0  1.0\n",
       "condition          \n",
       "0           22    4\n",
       "1            9    3"
      ]
     },
     "execution_count": 23,
     "metadata": {},
     "output_type": "execute_result"
    }
   ],
   "source": [
    "chi_square(\n",
    "    df=df,\n",
    "    columns=\"vega\",\n",
    "    rows=rows,\n",
    "    \n",
    ")"
   ]
  },
  {
   "cell_type": "code",
   "execution_count": 24,
   "id": "dff51320-4d9d-4641-8f97-b07a08f07097",
   "metadata": {},
   "outputs": [
    {
     "name": "stdout",
     "output_type": "stream",
     "text": [
      "𝜒²(1) = 0.161, p = 0.688 \n",
      "Association = 0.242\n"
     ]
    },
    {
     "data": {
      "text/html": [
       "<div>\n",
       "<style scoped>\n",
       "    .dataframe tbody tr th:only-of-type {\n",
       "        vertical-align: middle;\n",
       "    }\n",
       "\n",
       "    .dataframe tbody tr th {\n",
       "        vertical-align: top;\n",
       "    }\n",
       "\n",
       "    .dataframe thead th {\n",
       "        text-align: right;\n",
       "    }\n",
       "</style>\n",
       "<table border=\"1\" class=\"dataframe\">\n",
       "  <thead>\n",
       "    <tr style=\"text-align: right;\">\n",
       "      <th>gluten</th>\n",
       "      <th>0.0</th>\n",
       "      <th>1.0</th>\n",
       "    </tr>\n",
       "    <tr>\n",
       "      <th>condition</th>\n",
       "      <th></th>\n",
       "      <th></th>\n",
       "    </tr>\n",
       "  </thead>\n",
       "  <tbody>\n",
       "    <tr>\n",
       "      <th>0</th>\n",
       "      <td>26</td>\n",
       "      <td>0</td>\n",
       "    </tr>\n",
       "    <tr>\n",
       "      <th>1</th>\n",
       "      <td>11</td>\n",
       "      <td>1</td>\n",
       "    </tr>\n",
       "  </tbody>\n",
       "</table>\n",
       "</div>"
      ],
      "text/plain": [
       "gluten     0.0  1.0\n",
       "condition          \n",
       "0           26    0\n",
       "1           11    1"
      ]
     },
     "execution_count": 24,
     "metadata": {},
     "output_type": "execute_result"
    }
   ],
   "source": [
    "chi_square(\n",
    "    df=df,\n",
    "    columns=\"gluten\",\n",
    "    rows=rows,\n",
    "    \n",
    ")"
   ]
  },
  {
   "cell_type": "code",
   "execution_count": 25,
   "id": "aec72d7c-a19f-4180-83ee-5e30616fe2bb",
   "metadata": {},
   "outputs": [
    {
     "name": "stdout",
     "output_type": "stream",
     "text": [
      "𝜒²(1) = 0.000, p = 1.000 \n",
      "Association = 0.112\n"
     ]
    },
    {
     "data": {
      "text/html": [
       "<div>\n",
       "<style scoped>\n",
       "    .dataframe tbody tr th:only-of-type {\n",
       "        vertical-align: middle;\n",
       "    }\n",
       "\n",
       "    .dataframe tbody tr th {\n",
       "        vertical-align: top;\n",
       "    }\n",
       "\n",
       "    .dataframe thead th {\n",
       "        text-align: right;\n",
       "    }\n",
       "</style>\n",
       "<table border=\"1\" class=\"dataframe\">\n",
       "  <thead>\n",
       "    <tr style=\"text-align: right;\">\n",
       "      <th>diabetes</th>\n",
       "      <th>0.0</th>\n",
       "      <th>1.0</th>\n",
       "    </tr>\n",
       "    <tr>\n",
       "      <th>condition</th>\n",
       "      <th></th>\n",
       "      <th></th>\n",
       "    </tr>\n",
       "  </thead>\n",
       "  <tbody>\n",
       "    <tr>\n",
       "      <th>0</th>\n",
       "      <td>25</td>\n",
       "      <td>1</td>\n",
       "    </tr>\n",
       "    <tr>\n",
       "      <th>1</th>\n",
       "      <td>12</td>\n",
       "      <td>0</td>\n",
       "    </tr>\n",
       "  </tbody>\n",
       "</table>\n",
       "</div>"
      ],
      "text/plain": [
       "diabetes   0.0  1.0\n",
       "condition          \n",
       "0           25    1\n",
       "1           12    0"
      ]
     },
     "execution_count": 25,
     "metadata": {},
     "output_type": "execute_result"
    }
   ],
   "source": [
    "chi_square(\n",
    "    df=df,\n",
    "    columns=\"diabetes\",\n",
    "    rows=rows,\n",
    "    \n",
    ")"
   ]
  },
  {
   "cell_type": "code",
   "execution_count": 26,
   "id": "cf491d11-f04f-4865-9c9c-65d5ed5cb607",
   "metadata": {},
   "outputs": [
    {
     "name": "stdout",
     "output_type": "stream",
     "text": [
      "𝜒²(1) = 1.842, p = 0.175 \n",
      "Association = 0.347\n"
     ]
    },
    {
     "data": {
      "text/html": [
       "<div>\n",
       "<style scoped>\n",
       "    .dataframe tbody tr th:only-of-type {\n",
       "        vertical-align: middle;\n",
       "    }\n",
       "\n",
       "    .dataframe tbody tr th {\n",
       "        vertical-align: top;\n",
       "    }\n",
       "\n",
       "    .dataframe thead th {\n",
       "        text-align: right;\n",
       "    }\n",
       "</style>\n",
       "<table border=\"1\" class=\"dataframe\">\n",
       "  <thead>\n",
       "    <tr style=\"text-align: right;\">\n",
       "      <th>religion</th>\n",
       "      <th>0.0</th>\n",
       "      <th>1.0</th>\n",
       "    </tr>\n",
       "    <tr>\n",
       "      <th>condition</th>\n",
       "      <th></th>\n",
       "      <th></th>\n",
       "    </tr>\n",
       "  </thead>\n",
       "  <tbody>\n",
       "    <tr>\n",
       "      <th>0</th>\n",
       "      <td>26</td>\n",
       "      <td>0</td>\n",
       "    </tr>\n",
       "    <tr>\n",
       "      <th>1</th>\n",
       "      <td>10</td>\n",
       "      <td>2</td>\n",
       "    </tr>\n",
       "  </tbody>\n",
       "</table>\n",
       "</div>"
      ],
      "text/plain": [
       "religion   0.0  1.0\n",
       "condition          \n",
       "0           26    0\n",
       "1           10    2"
      ]
     },
     "execution_count": 26,
     "metadata": {},
     "output_type": "execute_result"
    }
   ],
   "source": [
    "chi_square(\n",
    "    df=df,\n",
    "    columns=\"religion\",\n",
    "    rows=rows,\n",
    "    \n",
    ")"
   ]
  },
  {
   "cell_type": "code",
   "execution_count": 27,
   "id": "2d2d586b-e650-4ef0-bf7e-e0888af50e2c",
   "metadata": {},
   "outputs": [],
   "source": [
    "# define new column that has \"0\" if a participant did not fill out any \n",
    "# dietary restrictions under \"other\" and \"1\" else\n",
    "df['other2'] = df['other'].apply(lambda x: '1' if pd.notnull(x) else '0')"
   ]
  },
  {
   "cell_type": "code",
   "execution_count": 28,
   "id": "9859d3bb-82d2-4942-82c7-221401f243aa",
   "metadata": {},
   "outputs": [
    {
     "name": "stdout",
     "output_type": "stream",
     "text": [
      "𝜒²(1) = 0.335, p = 0.563 \n",
      "Association = 0.199\n"
     ]
    },
    {
     "data": {
      "text/html": [
       "<div>\n",
       "<style scoped>\n",
       "    .dataframe tbody tr th:only-of-type {\n",
       "        vertical-align: middle;\n",
       "    }\n",
       "\n",
       "    .dataframe tbody tr th {\n",
       "        vertical-align: top;\n",
       "    }\n",
       "\n",
       "    .dataframe thead th {\n",
       "        text-align: right;\n",
       "    }\n",
       "</style>\n",
       "<table border=\"1\" class=\"dataframe\">\n",
       "  <thead>\n",
       "    <tr style=\"text-align: right;\">\n",
       "      <th>other2</th>\n",
       "      <th>0</th>\n",
       "      <th>1</th>\n",
       "    </tr>\n",
       "    <tr>\n",
       "      <th>condition</th>\n",
       "      <th></th>\n",
       "      <th></th>\n",
       "    </tr>\n",
       "  </thead>\n",
       "  <tbody>\n",
       "    <tr>\n",
       "      <th>0</th>\n",
       "      <td>23</td>\n",
       "      <td>3</td>\n",
       "    </tr>\n",
       "    <tr>\n",
       "      <th>1</th>\n",
       "      <td>12</td>\n",
       "      <td>0</td>\n",
       "    </tr>\n",
       "  </tbody>\n",
       "</table>\n",
       "</div>"
      ],
      "text/plain": [
       "other2      0  1\n",
       "condition       \n",
       "0          23  3\n",
       "1          12  0"
      ]
     },
     "execution_count": 28,
     "metadata": {},
     "output_type": "execute_result"
    }
   ],
   "source": [
    "chi_square(\n",
    "    df=df,\n",
    "    columns=\"other2\",\n",
    "    rows=rows,\n",
    "    \n",
    ")"
   ]
  },
  {
   "cell_type": "code",
   "execution_count": 29,
   "id": "13291394-dd90-4a74-8fd3-4ac9743a3f08",
   "metadata": {},
   "outputs": [],
   "source": [
    "# chi-square manipulation check"
   ]
  },
  {
   "cell_type": "code",
   "execution_count": 30,
   "id": "1257b637-f6d0-4996-9ee3-080ce7ad24f3",
   "metadata": {},
   "outputs": [
    {
     "name": "stdout",
     "output_type": "stream",
     "text": [
      "𝜒²(1) = 33.513, p = 0.000 \n",
      "Association = 1.000\n"
     ]
    },
    {
     "data": {
      "text/html": [
       "<div>\n",
       "<style scoped>\n",
       "    .dataframe tbody tr th:only-of-type {\n",
       "        vertical-align: middle;\n",
       "    }\n",
       "\n",
       "    .dataframe tbody tr th {\n",
       "        vertical-align: top;\n",
       "    }\n",
       "\n",
       "    .dataframe thead th {\n",
       "        text-align: right;\n",
       "    }\n",
       "</style>\n",
       "<table border=\"1\" class=\"dataframe\">\n",
       "  <thead>\n",
       "    <tr style=\"text-align: right;\">\n",
       "      <th>mancheck</th>\n",
       "      <th>0</th>\n",
       "      <th>1</th>\n",
       "    </tr>\n",
       "    <tr>\n",
       "      <th>condition</th>\n",
       "      <th></th>\n",
       "      <th></th>\n",
       "    </tr>\n",
       "  </thead>\n",
       "  <tbody>\n",
       "    <tr>\n",
       "      <th>0</th>\n",
       "      <td>26</td>\n",
       "      <td>0</td>\n",
       "    </tr>\n",
       "    <tr>\n",
       "      <th>1</th>\n",
       "      <td>0</td>\n",
       "      <td>12</td>\n",
       "    </tr>\n",
       "  </tbody>\n",
       "</table>\n",
       "</div>"
      ],
      "text/plain": [
       "mancheck    0   1\n",
       "condition        \n",
       "0          26   0\n",
       "1           0  12"
      ]
     },
     "execution_count": 30,
     "metadata": {},
     "output_type": "execute_result"
    }
   ],
   "source": [
    "chi_square(\n",
    "    df=df,\n",
    "    columns=\"mancheck\",\n",
    "    rows=rows,\n",
    "    \n",
    ")"
   ]
  },
  {
   "cell_type": "markdown",
   "id": "d8b25e85-e466-4416-9d03-d50a94c083ce",
   "metadata": {},
   "source": [
    "## Cronbach's alpha\n",
    "For the dependent variable"
   ]
  },
  {
   "cell_type": "code",
   "execution_count": 31,
   "id": "9074ce4d-65c6-4da8-b44c-23fd6b51438a",
   "metadata": {},
   "outputs": [],
   "source": [
    "items = df[['Q4','Q5','Q6']]"
   ]
  },
  {
   "cell_type": "code",
   "execution_count": 32,
   "id": "0efb3408-1cfd-4e1c-ab38-df7d46484ee2",
   "metadata": {},
   "outputs": [
    {
     "data": {
      "text/plain": [
       "(0.8627008250108554, array([0.765, 0.924]))"
      ]
     },
     "execution_count": 32,
     "metadata": {},
     "output_type": "execute_result"
    }
   ],
   "source": [
    "# Calculate the initial Cronbach's alpha\n",
    "pg.cronbach_alpha(items)"
   ]
  },
  {
   "cell_type": "code",
   "execution_count": 33,
   "id": "e2a11561-d00c-4754-8604-e997e3066c34",
   "metadata": {},
   "outputs": [
    {
     "name": "stdout",
     "output_type": "stream",
     "text": [
      "Item removed: Q4\n",
      "Cronbach's alpha: (0.78752332711277, array([0.591, 0.89 ]))\n",
      "\n",
      "Item removed: Q5\n",
      "Cronbach's alpha: (0.6706274074557681, array([0.366, 0.829]))\n",
      "\n",
      "Item removed: Q6\n",
      "Cronbach's alpha: (0.9337072112586635, array([0.872, 0.966]))\n",
      "\n"
     ]
    }
   ],
   "source": [
    "# calculate the alpha value without each item\n",
    "alpha_deleted_items = []\n",
    "for item in items.columns:\n",
    "    reduced_data = items.drop(item, axis=1)\n",
    "    alpha = pg.cronbach_alpha(reduced_data)\n",
    "    alpha_deleted_items.append((item, alpha))\n",
    "\n",
    "for item, alpha in alpha_deleted_items:\n",
    "    print(\"Item removed:\", item)\n",
    "    print(\"Cronbach's alpha:\", alpha)\n",
    "    print()"
   ]
  },
  {
   "cell_type": "code",
   "execution_count": 34,
   "id": "c1cc7411-b8b8-40d0-b42f-41762183f92c",
   "metadata": {},
   "outputs": [],
   "source": [
    "df['satisfaction'] = df[['Q4','Q5','Q6']].mean(axis=1) # construct the new variable"
   ]
  },
  {
   "cell_type": "code",
   "execution_count": 35,
   "id": "41244b20-f3af-41c9-bd6c-8fb5deaf90ca",
   "metadata": {},
   "outputs": [
    {
     "data": {
      "text/plain": [
       "count    38.000000\n",
       "mean      4.201754\n",
       "std       1.652261\n",
       "min       1.333333\n",
       "25%       2.750000\n",
       "50%       4.666667\n",
       "75%       5.583333\n",
       "max       6.666667\n",
       "Name: satisfaction, dtype: float64"
      ]
     },
     "execution_count": 35,
     "metadata": {},
     "output_type": "execute_result"
    }
   ],
   "source": [
    "df['satisfaction'].describe() # get descriptives of the new variable"
   ]
  },
  {
   "cell_type": "markdown",
   "id": "87ab3fef-c074-4b9c-bdbb-ad4afb9b7169",
   "metadata": {},
   "source": [
    "## Hypothesis testing"
   ]
  },
  {
   "cell_type": "code",
   "execution_count": 36,
   "id": "a1c27d04-0fbb-4a29-85e4-514deaf35af8",
   "metadata": {},
   "outputs": [
    {
     "name": "stdout",
     "output_type": "stream",
     "text": [
      "0 M: 4.12 \n",
      "1 M: 4.39\n",
      "0 Mdn: 4.67 \n",
      "1 Mdn: 4.83\n",
      "     U-val alternative   p-val      RBC      CLES\n",
      "MWU  137.5        less  0.2851  0.11859  0.559295\n"
     ]
    },
    {
     "data": {
      "text/html": [
       "<div>\n",
       "<style scoped>\n",
       "    .dataframe tbody tr th:only-of-type {\n",
       "        vertical-align: middle;\n",
       "    }\n",
       "\n",
       "    .dataframe tbody tr th {\n",
       "        vertical-align: top;\n",
       "    }\n",
       "\n",
       "    .dataframe thead th {\n",
       "        text-align: right;\n",
       "    }\n",
       "</style>\n",
       "<table border=\"1\" class=\"dataframe\">\n",
       "  <thead>\n",
       "    <tr style=\"text-align: right;\">\n",
       "      <th></th>\n",
       "      <th>U-val</th>\n",
       "      <th>alternative</th>\n",
       "      <th>p-val</th>\n",
       "      <th>RBC</th>\n",
       "      <th>CLES</th>\n",
       "    </tr>\n",
       "  </thead>\n",
       "  <tbody>\n",
       "    <tr>\n",
       "      <th>MWU</th>\n",
       "      <td>137.5</td>\n",
       "      <td>less</td>\n",
       "      <td>0.2851</td>\n",
       "      <td>0.11859</td>\n",
       "      <td>0.559295</td>\n",
       "    </tr>\n",
       "  </tbody>\n",
       "</table>\n",
       "</div>"
      ],
      "text/plain": [
       "     U-val alternative   p-val      RBC      CLES\n",
       "MWU  137.5        less  0.2851  0.11859  0.559295"
      ]
     },
     "execution_count": 36,
     "metadata": {},
     "output_type": "execute_result"
    }
   ],
   "source": [
    "#rank sum test satisfaction\n",
    "rank_sum_test(\n",
    "    df=df,\n",
    "    group_1=group_1,\n",
    "    group_2=group_2,\n",
    "    dv=\"satisfaction\",\n",
    "    grouping_variable=grouping_variable,\n",
    "    alternative = \"less\" # because i test a one-sided hypothesis\n",
    ")"
   ]
  },
  {
   "cell_type": "code",
   "execution_count": 55,
   "id": "249da2c7-3c93-459e-aa19-75e0f1e161db",
   "metadata": {},
   "outputs": [
    {
     "data": {
      "text/plain": [
       "<seaborn.axisgrid.FacetGrid at 0x17f023cb0>"
      ]
     },
     "execution_count": 55,
     "metadata": {},
     "output_type": "execute_result"
    },
    {
     "data": {
      "image/png": "[encoded data removed]",
      "text/plain": [
       "<Figure size 511.111x500 with 1 Axes>"
      ]
     },
     "metadata": {},
     "output_type": "display_data"
    }
   ],
   "source": [
    "# visualisation\n",
    "sns.catplot(x='condition', y='satisfaction', kind='bar', data=df, color=\"grey\")"
   ]
  },
  {
   "cell_type": "code",
   "execution_count": null,
   "id": "b1b3e2c1-dcb0-4f20-8521-c3dacb450d22",
   "metadata": {},
   "outputs": [],
   "source": []
  }
 ],
 "metadata": {
  "kernelspec": {
   "display_name": "Python 3 (ipykernel)",
   "language": "python",
   "name": "python3"
  },
  "language_info": {
   "codemirror_mode": {
    "name": "ipython",
    "version": 3
   },
   "file_extension": ".py",
   "mimetype": "text/x-python",
   "name": "python",
   "nbconvert_exporter": "python",
   "pygments_lexer": "ipython3",
   "version": "3.12.3"
  }
 },
 "nbformat": 4,
 "nbformat_minor": 5
}
